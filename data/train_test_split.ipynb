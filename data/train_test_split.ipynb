{
 "cells": [
  {
   "cell_type": "code",
   "execution_count": null,
   "metadata": {},
   "outputs": [],
   "source": [
    "import os\n",
    "import shutil\n",
    "import random"
   ]
  },
  {
   "cell_type": "code",
   "execution_count": null,
   "metadata": {},
   "outputs": [],
   "source": [
    "base_dir = \"/Users/janakagrawal/Downloads/3second\"\n",
    "dest_dir = \"/Users/janakagrawal/Documents/3second/3second\""
   ]
  },
  {
   "cell_type": "code",
   "execution_count": null,
   "metadata": {},
   "outputs": [],
   "source": [
    "for file_name in os.listdir(base_dir):\n",
    "    if random.random() <= 0.8:\n",
    "        shutil.copyfile(os.path.join(base_dir, file_name), os.path.join(dest_dir, \"train\", file_name))\n",
    "    else:\n",
    "        shutil.copyfile(os.path.join(base_dir, file_name), os.path.join(dest_dir, \"test\", file_name))\n"
   ]
  }
 ],
 "metadata": {
  "language_info": {
   "name": "python"
  },
  "orig_nbformat": 4
 },
 "nbformat": 4,
 "nbformat_minor": 2
}
